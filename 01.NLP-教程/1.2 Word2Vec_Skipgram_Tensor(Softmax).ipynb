{
 "cells": [
  {
   "cell_type": "code",
   "execution_count": 2,
   "metadata": {},
   "outputs": [],
   "source": [
    "import tensorflow as tf\n",
    "import matplotlib.pyplot as plt\n",
    "import numpy as np\n",
    "tf.reset_default_graph()\n",
    "\n",
    "sentences = [ \"i like dog\", \"i like cat\", \"i like animal\",\n",
    "              \"dog cat animal\", \"apple cat dog like\", \"dog fish milk like\",\n",
    "              \"dog cat eyes like\", \"i like apple\", \"apple i hate\",\n",
    "              \"apple i movie book music like\", \"cat dog hate\", \"cat dog like\"]"
   ]
  },
  {
   "cell_type": "code",
   "execution_count": 3,
   "metadata": {},
   "outputs": [],
   "source": [
    "word_sequence = \" \".join(sentences).split()\n",
    "word_list = word_sequence\n",
    "word_list = list(set(word_list))\n",
    "\n",
    "word_dict = {w:i for i,w in enumerate(word_list)}\n",
    "\n",
    "#parameter\n",
    "batch_size = 20\n",
    "embedding_size =2\n",
    "voc_size = len(word_list)"
   ]
  },
  {
   "cell_type": "code",
   "execution_count": 4,
   "metadata": {},
   "outputs": [],
   "source": [
    "def random_batch(data, size):\n",
    "    random_inputs = []\n",
    "    random_labels = []\n",
    "    random_index = np.random.choice(range(len(data)), size, replace=False)\n",
    "    \n",
    "    for i in random_index:\n",
    "        random_inputs.append(np.eye(voc_size)[data[i][0]])\n",
    "        random_labels.append(np.eye(voc_size)[data[i][1]])\n",
    "    return random_inputs, random_labels"
   ]
  },
  {
   "cell_type": "code",
   "execution_count": 5,
   "metadata": {},
   "outputs": [],
   "source": [
    "skip_gram = []\n",
    "for i in range(1, len(word_sequence)-1):\n",
    "    target = word_dict[word_sequence[i]]\n",
    "    context = [word_dict[word_sequence[i-1]], word_dict[word_sequence[i+1]]]\n",
    "    for w in context:\n",
    "        skip_gram.append([target, w])"
   ]
  },
  {
   "cell_type": "code",
   "execution_count": 6,
   "metadata": {},
   "outputs": [],
   "source": [
    "inputs = tf.placeholder(tf.float32, shape=[None, voc_size])\n",
    "labels = tf.placeholder(tf.float32, shape=[None, voc_size])"
   ]
  },
  {
   "cell_type": "code",
   "execution_count": 7,
   "metadata": {},
   "outputs": [],
   "source": [
    "W = tf.Variable(tf.random_uniform([voc_size, embedding_size], -1.0, 1.0))\n",
    "WT = tf.Variable(tf.random_uniform([embedding_size, voc_size], -1.0, 1.0))"
   ]
  },
  {
   "cell_type": "code",
   "execution_count": 8,
   "metadata": {},
   "outputs": [],
   "source": [
    "hidden_layer = tf.matmul(inputs, W) #[batch_size, embedding_size]\n",
    "output_layer = tf.matmul(hidden_layer, WT) #[batch_szie, voc_size]"
   ]
  },
  {
   "cell_type": "code",
   "execution_count": 9,
   "metadata": {},
   "outputs": [],
   "source": [
    "cost = tf.reduce_mean(tf.nn.softmax_cross_entropy_with_logits_v2(logits=output_layer, labels=labels))\n",
    "optomizer = tf.train.AdamOptimizer(0.001).minimize(cost)"
   ]
  },
  {
   "cell_type": "code",
   "execution_count": 11,
   "metadata": {},
   "outputs": [
    {
     "name": "stdout",
     "output_type": "stream",
     "text": [
      "Epoch: 1000 cost=2.407370\n",
      "Epoch: 2000 cost=2.048795\n",
      "Epoch: 3000 cost=2.011250\n",
      "Epoch: 4000 cost=1.720789\n",
      "Epoch: 5000 cost=1.887066\n"
     ]
    }
   ],
   "source": [
    "with tf.Session() as sess:\n",
    "    init = tf.global_variables_initializer()\n",
    "    sess.run(init)\n",
    "    for epoch in range(5000):\n",
    "        batch_inputs, batch_labels = random_batch(skip_gram, batch_size)\n",
    "        _,loss = sess.run([optomizer, cost], feed_dict={inputs: batch_inputs, labels: batch_labels})\n",
    "        if (epoch+1)%1000 ==0:\n",
    "            print(\"Epoch: {:4d} cost={:.6f}\".format(epoch+1, loss))\n",
    "    trained_embeddings = W.eval()"
   ]
  },
  {
   "cell_type": "code",
   "execution_count": 12,
   "metadata": {},
   "outputs": [
    {
     "data": {
      "text/plain": [
       "array([[ 1.2587594 ,  1.5034523 ],\n",
       "       [ 1.3582591 ,  0.3692775 ],\n",
       "       [-0.49018276,  2.1160467 ],\n",
       "       [-0.5517564 ,  1.3539516 ],\n",
       "       [ 0.35162562,  0.94557303],\n",
       "       [ 0.68174344,  1.0266328 ],\n",
       "       [-2.4102094 ,  0.81530994],\n",
       "       [ 0.43631595,  2.5143569 ],\n",
       "       [ 1.5430403 , -0.34711948],\n",
       "       [ 2.5992615 , -0.6399845 ],\n",
       "       [-1.2458277 , -1.3038136 ],\n",
       "       [-0.16418864,  0.16430794],\n",
       "       [-0.7034884 ,  1.090805  ]], dtype=float32)"
      ]
     },
     "execution_count": 12,
     "metadata": {},
     "output_type": "execute_result"
    }
   ],
   "source": [
    "trained_embeddings"
   ]
  },
  {
   "cell_type": "code",
   "execution_count": 16,
   "metadata": {},
   "outputs": [
    {
     "data": {
      "image/png": "[encoded data removed]",
      "text/plain": [
       "<Figure size 432x288 with 1 Axes>"
      ]
     },
     "metadata": {
      "needs_background": "light"
     },
     "output_type": "display_data"
    }
   ],
   "source": [
    "for i,label in enumerate(word_list):\n",
    "    x,y = trained_embeddings[i]\n",
    "    plt.scatter(x,y)\n",
    "    plt.annotate(label, xy=(x,y), xytext=(5,2),textcoords='offset points', ha='right', va='bottom')"
   ]
  },
  {
   "cell_type": "code",
   "execution_count": null,
   "metadata": {},
   "outputs": [],
   "source": []
  }
 ],
 "metadata": {
  "kernelspec": {
   "display_name": "Python 3",
   "language": "python",
   "name": "python3"
  },
  "language_info": {
   "codemirror_mode": {
    "name": "ipython",
    "version": 3
   },
   "file_extension": ".py",
   "mimetype": "text/x-python",
   "name": "python",
   "nbconvert_exporter": "python",
   "pygments_lexer": "ipython3",
   "version": "3.6.8"
  }
 },
 "nbformat": 4,
 "nbformat_minor": 2
}
