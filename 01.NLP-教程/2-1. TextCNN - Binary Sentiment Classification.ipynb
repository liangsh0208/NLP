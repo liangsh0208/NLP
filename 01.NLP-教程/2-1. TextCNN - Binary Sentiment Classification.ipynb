{
 "cells": [
  {
   "cell_type": "code",
   "execution_count": 24,
   "metadata": {},
   "outputs": [],
   "source": [
    "import tensorflow as tf\n",
    "import numpy as np\n",
    "tf.reset_default_graph()\n",
    "\n",
    "#parameter\n",
    "embedding_size = 2\n",
    "sequence_length = 3\n",
    "num_classes = 2\n",
    "filter_sizes = [2,2,2]\n",
    "num_filters = 3\n",
    "\n",
    "sentences = [\"i love you\",\"he loves me\", \"she likes baseball\", \"i hate you\",\"sorry for that\", \"this is awful\"]\n",
    "labels = [1,1,1,0,0,0]\n",
    "\n",
    "word_list = \" \".join(sentences).split()\n",
    "word_list = list(set(word_list))\n",
    "\n",
    "word_dict = {w:i for i,w in enumerate(word_list)}\n",
    "vocab_size = len(word_list)\n",
    "\n",
    "inputs = []\n",
    "for sen in sentences:\n",
    "    inputs.append(np.asarray([word_dict[n] for n in sen.split()]))\n",
    "    #inputs.append(np.eye(num_classes)[out]) \n",
    "\n",
    "outputs = []\n",
    "for out in labels:\n",
    "    outputs.append(np.eye(num_classes)[out])#one hot : to using tensor softmax loss function"
   ]
  },
  {
   "cell_type": "code",
   "execution_count": 25,
   "metadata": {},
   "outputs": [],
   "source": [
    "#model\n",
    "X = tf.placeholder(tf.int32, [None, sequence_length])\n",
    "Y = tf.placeholder(tf.int32, [None, num_classes])\n",
    "\n",
    "W = tf.Variable(tf.random_uniform([vocab_size, embedding_size], -1.0, 1.0))\n",
    "embedded_chars = tf.nn.embedding_lookup(W,X) #[batch_size, sequence_length, embedding_size]\n",
    "embedded_chars = tf.expand_dims(embedded_chars, -1) # add channel(=1), [batch_size, sequence_length, embedding_size, 1]\n",
    "\n",
    "pooled_outputs = []\n",
    "for i, filter_size in enumerate(filter_sizes):\n",
    "    filter_shape = [filter_size, embedding_size, 1, num_filters]\n",
    "    W = tf.Variable(tf.truncated_normal(filter_shape, stddev=0.1))\n",
    "    b = tf.Variable(tf.constant(0.1, shape=[num_filters]))\n",
    "    conv = tf.nn.conv2d(embedded_chars, W, strides=[1,1,1,1], padding=\"VALID\")\n",
    "    h = tf.nn.relu(tf.nn.bias_add(conv, b))\n",
    "    pooled = tf.nn.max_pool(h,\n",
    "                            ksize=[1,sequence_length-filter_size+1, 1,1],\n",
    "                            # [batch_size, filter_height, filter_width, channel]\n",
    "                            strides = [1,1,1,1],\n",
    "                            padding='VALID')\n",
    "    pooled_outputs.append(pooled) \n",
    "    # dim od pooled : [batch_size(=6), output_height(=1), output_width(=1), channel(=1)]\n",
    "    \n",
    "num_filters_total = num_filters*len(filter_sizes)\n",
    "h_pool = tf.concat(pooled_outputs, num_filters)\n",
    "# h_pool : [batch_size(=6), output_height(=1), output_width(=1), channel(=1) * 3]\n",
    "h_pool_flat = tf.reshape(h_pool, [-1, num_filters_total]) #[batch_size,]\n",
    "\n",
    "#model-trainning\n",
    "Weight = tf.get_variable('W', shape=[num_filters_total, num_classes], \n",
    "                         initializer=tf.contrib.layers.xavier_initializer())\n",
    "Bias = tf.Variable(tf.constant(0.1, shape=[num_classes]))\n",
    "model = tf.nn.xw_plus_b(h_pool_flat, Weight, Bias)\n",
    "cost = tf.reduce_mean(tf.nn.softmax_cross_entropy_with_logits_v2(logits=model, labels=Y))\n",
    "\n",
    "optimizer = tf.train.AdamOptimizer(0.001).minimize(cost)\n",
    "\n",
    "hypothesis = tf.nn.softmax(model)\n",
    "predictions = tf.argmax(hypothesis,1)"
   ]
  },
  {
   "cell_type": "code",
   "execution_count": 26,
   "metadata": {},
   "outputs": [
    {
     "name": "stdout",
     "output_type": "stream",
     "text": [
      "Epoch:  1000 , cost=0.001515\n",
      "Epoch:  2000 , cost=0.000300\n",
      "Epoch:  3000 , cost=0.000107\n",
      "Epoch:  4000 , cost=0.000047\n",
      "Epoch:  5000 , cost=0.000023\n"
     ]
    }
   ],
   "source": [
    "init = tf.global_variables_initializer()\n",
    "sess = tf.Session()\n",
    "sess.run(init)\n",
    "\n",
    "for epoch in range(5000):\n",
    "    _, loss = sess.run([optimizer, cost], feed_dict={X:inputs, Y:outputs})\n",
    "    if (epoch+1) % 1000 ==0:\n",
    "        print('Epoch:{:6d} , cost={:.6f}'.format(epoch+1, loss))"
   ]
  },
  {
   "cell_type": "code",
   "execution_count": 27,
   "metadata": {},
   "outputs": [
    {
     "name": "stdout",
     "output_type": "stream",
     "text": [
      "sorry hate you --is Bad Mean...\n"
     ]
    }
   ],
   "source": [
    "test_text = 'sorry hate you'\n",
    "tests = []\n",
    "tests.append(np.asarray([word_dict[n] for n in test_text.split()]))\n",
    "predict = sess.run([predictions], feed_dict={X: tests})\n",
    "result = predict[0][0]\n",
    "if result ==0:\n",
    "    print(test_text, \"--is Bad Mean...\")\n",
    "else:\n",
    "    print(test_text, \"--is Good Mean!!\")\n"
   ]
  },
  {
   "cell_type": "code",
   "execution_count": null,
   "metadata": {},
   "outputs": [],
   "source": []
  }
 ],
 "metadata": {
  "kernelspec": {
   "display_name": "Python 3",
   "language": "python",
   "name": "python3"
  },
  "language_info": {
   "codemirror_mode": {
    "name": "ipython",
    "version": 3
   },
   "file_extension": ".py",
   "mimetype": "text/x-python",
   "name": "python",
   "nbconvert_exporter": "python",
   "pygments_lexer": "ipython3",
   "version": "3.6.8"
  }
 },
 "nbformat": 4,
 "nbformat_minor": 2
}
