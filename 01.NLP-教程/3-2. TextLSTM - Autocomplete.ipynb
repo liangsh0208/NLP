{
 "cells": [
  {
   "cell_type": "code",
   "execution_count": 2,
   "metadata": {},
   "outputs": [],
   "source": [
    "import tensorflow as tf\n",
    "import numpy as np\n",
    "tf.reset_default_graph()\n",
    "\n",
    "char_arr = [c for c in 'abcdefghijklmnopqrstuvwxyz']\n",
    "\n",
    "word_dict = {n:i for i,n in enumerate(char_arr)}\n",
    "\n",
    "number_dict = {i:n for i,n in enumerate(char_arr)}\n",
    "\n",
    "n_class = len(word_dict)\n",
    "\n",
    "seq_data = ['make', 'need', 'coal', 'word', 'love', 'hate', 'live', 'home', 'hash', 'star']\n",
    "\n",
    "#parameter\n",
    "n_step =3\n",
    "n_hidden = 128"
   ]
  },
  {
   "cell_type": "code",
   "execution_count": 9,
   "metadata": {},
   "outputs": [],
   "source": [
    "def make_batch(seq_data):\n",
    "    input_batch, target_batch = [], []\n",
    "    for seq in seq_data:\n",
    "        input = [word_dict[n] for n in seq[:-1]]\n",
    "        target = word_dict[seq[-1]]\n",
    "        input_batch.append(np.eye(n_class)[input])\n",
    "        target_batch.append(np.eye(n_class)[target])\n",
    "    return input_batch,target_batch"
   ]
  },
  {
   "cell_type": "code",
   "execution_count": 10,
   "metadata": {},
   "outputs": [],
   "source": [
    "#model\n",
    "X = tf.placeholder(tf.float32, shape=[None, n_step, n_class])\n",
    "Y = tf.placeholder(tf.float32, shape=[None, n_class])\n",
    "\n",
    "W = tf.Variable(tf.random_uniform([n_hidden, n_class]))\n",
    "b = tf.Variable(tf.random_uniform([n_class]))\n",
    "\n",
    "cell = tf.nn.rnn_cell.BasicLSTMCell(n_hidden) #  lstm单元构造\n",
    "outputs, states = tf.nn.dynamic_rnn(cell, X, dtype=tf.float32)\n",
    "\n",
    "#outputs : [batch_size, n_step, n_hidden]\n",
    "outputs = tf.transpose(outputs, [1,0,2]) #[n_step, batch_size, n_hidden]\n",
    "outputs = outputs[-1] #[batch_size, n_hidden]\n",
    "model = tf.matmul(outputs, W)+b\n",
    "\n",
    "cost = tf.reduce_mean(tf.nn.softmax_cross_entropy_with_logits_v2(logits=model, labels=Y))\n",
    "\n",
    "optimizer = tf.train.AdamOptimizer(0.001).minimize(cost)\n",
    "\n",
    "prediction = tf.cast(tf.argmax(model,1), tf.int32)\n",
    "\n",
    "init = tf.global_variables_initializer()\n",
    "sess = tf.Session()\n",
    "sess.run(init)\n",
    "\n",
    "input_batch, target_batch = make_batch(seq_data)"
   ]
  },
  {
   "cell_type": "code",
   "execution_count": 21,
   "metadata": {},
   "outputs": [
    {
     "name": "stdout",
     "output_type": "stream",
     "text": [
      "Epoch :   200, cost=0.00016\n",
      "Epoch :   400, cost=0.00012\n",
      "Epoch :   600, cost=0.00009\n",
      "Epoch :   800, cost=0.00007\n",
      "Epoch :  1000, cost=0.00006\n"
     ]
    }
   ],
   "source": [
    "for epoch in range(1000):\n",
    "    _, loss = sess.run([optimizer, cost], feed_dict={X: input_batch, Y: target_batch})\n",
    "    if (epoch+1) % 200 == 0:\n",
    "        print('Epoch : {:5d}, cost={:.5f}'.format(epoch+1, loss))"
   ]
  },
  {
   "cell_type": "code",
   "execution_count": 25,
   "metadata": {},
   "outputs": [
    {
     "name": "stdout",
     "output_type": "stream",
     "text": [
      "['mak', 'nee', 'coa', 'wor', 'lov', 'hat', 'liv', 'hom', 'has', 'sta'] -> ['e', 'd', 'l', 'd', 'e', 'e', 'e', 'e', 'h', 'r']\n"
     ]
    }
   ],
   "source": [
    "inputs = [sen[:3] for sen in seq_data]\n",
    "\n",
    "predict = sess.run([prediction], feed_dict={X: input_batch})\n",
    "\n",
    "print(inputs, '->', [number_dict[n] for n in predict[0]])"
   ]
  },
  {
   "cell_type": "code",
   "execution_count": null,
   "metadata": {},
   "outputs": [],
   "source": []
  }
 ],
 "metadata": {
  "kernelspec": {
   "display_name": "Python 3",
   "language": "python",
   "name": "python3"
  },
  "language_info": {
   "codemirror_mode": {
    "name": "ipython",
    "version": 3
   },
   "file_extension": ".py",
   "mimetype": "text/x-python",
   "name": "python",
   "nbconvert_exporter": "python",
   "pygments_lexer": "ipython3",
   "version": "3.6.8"
  }
 },
 "nbformat": 4,
 "nbformat_minor": 2
}
