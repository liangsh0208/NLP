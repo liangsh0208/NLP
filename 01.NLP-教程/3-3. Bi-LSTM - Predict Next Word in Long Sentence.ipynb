{
 "cells": [
  {
   "cell_type": "code",
   "execution_count": 2,
   "metadata": {},
   "outputs": [],
   "source": [
    "import tensorflow as tf\n",
    "import numpy as np\n",
    "\n",
    "sentence = (\n",
    "    'Lorem ipsum dolor sit amet consectetur adipisicing elit '\n",
    "    'sed do eiusmod tempor incididunt ut labore et dolore magna '\n",
    "    'aliqua Ut enim ad minim veniam quis nostrud exercitation'\n",
    ")"
   ]
  },
  {
   "cell_type": "code",
   "execution_count": 5,
   "metadata": {},
   "outputs": [],
   "source": [
    "word_list = list(set(sentence.split()))\n",
    "\n",
    "word_dict = {w:i for i,w in enumerate(word_list)}\n",
    "number_dict = {i:w for i,w in enumerate(word_list)}\n",
    "\n",
    "n_class = len(word_dict)\n",
    "n_step = len(sentence.split())\n",
    "\n",
    "n_hidden = 5\n",
    "\n",
    "def make_batch(sentence):\n",
    "    input_batch, target_batch = [],[]\n",
    "    words = sentence.split()\n",
    "    for i, word in enumerate(words[:-1]):\n",
    "        input = [word_dict[n] for n in words[:(i+1)]]\n",
    "        input = input+[0]*(n_step-len(input))\n",
    "        target = word_dict[words[i+1]]\n",
    "        input_batch.append(np.eye(n_class)[input])\n",
    "        target_batch.append(np.eye(n_class)[target])\n",
    "    return input_batch, target_batch"
   ]
  },
  {
   "cell_type": "code",
   "execution_count": 11,
   "metadata": {},
   "outputs": [],
   "source": [
    "#bi-lstm model\n",
    "X = tf.placeholder(tf.float32, shape=[None, n_step, n_class])\n",
    "Y = tf.placeholder(tf.float32, shape=[None, n_class])\n",
    "\n",
    "W = tf.Variable(tf.random_uniform([n_hidden*2, n_class]))\n",
    "b = tf.Variable(tf.random_uniform([n_class]))\n",
    "\n",
    "lstm_fw_cell = tf.nn.rnn_cell.LSTMCell(n_hidden)\n",
    "lstm_bw_cell = tf.nn.rnn_cell.LSTMCell(n_hidden)\n",
    "\n",
    "outputs,_ = tf.nn.bidirectional_dynamic_rnn(lstm_fw_cell, lstm_bw_cell, X, dtype=tf.float32)\n",
    "#outputs [batch_size, len_seq, n_hidden], states [batch_size, n_hidden]\n",
    "\n",
    "outputs = tf.concat([outputs[0], outputs[1]], 2)\n",
    "outputs = tf.transpose(outputs, [1,0,2]) #[n_step, batch_size, n_hidden]\n",
    "outputs = outputs[-1]\n",
    "\n",
    "model = tf.matmul(outputs, W)+b\n",
    "\n",
    "cost = tf.reduce_mean(tf.nn.softmax_cross_entropy_with_logits_v2(logits=model, labels=Y))\n",
    "\n",
    "optimizer = tf.train.AdamOptimizer(0.001).minimize(cost)\n",
    "\n",
    "prediction = tf.cast(tf.argmax(model,1), tf.int32)"
   ]
  },
  {
   "cell_type": "code",
   "execution_count": 21,
   "metadata": {},
   "outputs": [],
   "source": [
    "#training\n",
    "init = tf.global_variables_initializer()\n",
    "sess = tf.Session()\n",
    "sess.run(init)"
   ]
  },
  {
   "cell_type": "code",
   "execution_count": 27,
   "metadata": {},
   "outputs": [],
   "source": [
    "input_batch , target_batch = make_batch(sentence)"
   ]
  },
  {
   "cell_type": "code",
   "execution_count": 36,
   "metadata": {},
   "outputs": [
    {
     "name": "stdout",
     "output_type": "stream",
     "text": [
      "Epoch :  1000, cost=0.33386\n",
      "Epoch :  2000, cost=0.30247\n",
      "Epoch :  3000, cost=0.29328\n",
      "Epoch :  4000, cost=0.28633\n",
      "Epoch :  5000, cost=0.28096\n",
      "Epoch :  6000, cost=0.19471\n",
      "Epoch :  7000, cost=0.15730\n",
      "Epoch :  8000, cost=0.12521\n",
      "Epoch :  9000, cost=0.09709\n",
      "Epoch : 10000, cost=0.07622\n"
     ]
    }
   ],
   "source": [
    "for epoch in range(10000):\n",
    "    _, loss = sess.run([optimizer, cost], feed_dict={X:input_batch,Y:target_batch})\n",
    "    if (epoch+1) % 1000 ==0:\n",
    "        print(\"Epoch : {:5d}, cost={:.5f}\".format(epoch+1, loss))"
   ]
  },
  {
   "cell_type": "code",
   "execution_count": 37,
   "metadata": {},
   "outputs": [
    {
     "name": "stdout",
     "output_type": "stream",
     "text": [
      "Lorem ipsum dolor sit amet consectetur adipisicing elit sed do eiusmod tempor incididunt ut labore et dolore magna aliqua Ut enim ad minim veniam quis nostrud exercitation\n",
      "['ipsum', 'dolor', 'sit', 'amet', 'consectetur', 'adipisicing', 'elit', 'sed', 'do', 'eiusmod', 'tempor', 'incididunt', 'ut', 'labore', 'et', 'dolore', 'magna', 'aliqua', 'Ut', 'enim', 'minim', 'minim', 'veniam', 'quis', 'nostrud', 'exercitation']\n"
     ]
    }
   ],
   "source": [
    "predict = sess.run([prediction], feed_dict={X: input_batch})\n",
    "print(sentence)\n",
    "print([number_dict[n] for n in [pre for pre in predict[0]]])"
   ]
  },
  {
   "cell_type": "code",
   "execution_count": null,
   "metadata": {},
   "outputs": [],
   "source": []
  }
 ],
 "metadata": {
  "kernelspec": {
   "display_name": "Python 3",
   "language": "python",
   "name": "python3"
  },
  "language_info": {
   "codemirror_mode": {
    "name": "ipython",
    "version": 3
   },
   "file_extension": ".py",
   "mimetype": "text/x-python",
   "name": "python",
   "nbconvert_exporter": "python",
   "pygments_lexer": "ipython3",
   "version": "3.6.8"
  }
 },
 "nbformat": 4,
 "nbformat_minor": 2
}
