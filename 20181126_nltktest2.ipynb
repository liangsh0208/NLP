{
 "metadata": {
  "name": "",
  "signature": "sha256:f77986685c09bba1ddb7f7f872dd28b2e10d173b479802a4726e2c2290a37eed"
 },
 "nbformat": 3,
 "nbformat_minor": 0,
 "worksheets": [
  {
   "cells": [
    {
     "cell_type": "code",
     "collapsed": false,
     "input": [
      "import nltk\n",
      "from nltk.corpus import brown\n",
      "brown_tagged_sents = brown.tagged_sents()\n",
      "size = int(len(brown_tagged_sents)*0.9)\n",
      "train_sents = brown_tagged_sents[:size]\n",
      "test_sents = brown_tagged_sents[size+1:]\n",
      "unigram_tagger = nltk.UnigramTagger(train_sents)\n",
      "unigram_tagger.evaluate(test_sents)"
     ],
     "language": "python",
     "metadata": {},
     "outputs": [],
     "prompt_number": 1
    },
    {
     "cell_type": "code",
     "collapsed": false,
     "input": [
      "#\u7ec4\u5408\u6807\u6ce8\u5668\n",
      "t0 = nltk.DefaultTagger('NN')\n",
      "t1 = nltk.UnigramTagger(train_sents,backoff=t0)\n",
      "t2 = nltk.BigramTagger(train_sents,backoff=t1)\n",
      "t2.evaluate(test_sents)"
     ],
     "language": "python",
     "metadata": {},
     "outputs": [
      {
       "metadata": {},
       "output_type": "pyout",
       "prompt_number": 10,
       "text": [
        "0.9130612458741552"
       ]
      }
     ],
     "prompt_number": 10
    },
    {
     "cell_type": "code",
     "collapsed": false,
     "input": [
      "#\u8bcd\u4e91\n",
      "import os\n",
      "from os import path\n",
      "from wordcloud import WordCloud\n",
      "d = path.dirname(__file__) if '__file__' in locals() else os.getcwd()\n",
      "text = open(\"/media/liangsh/\u65b0\u52a0\u5377/\u8f6f\u4ef6/testing/python/NLP/tesing/word_cloud/examples/constitution.txt\").read()\n",
      "wordcloud = WordCloud().generate(text)\n",
      "import matplotlib.pyplot as plt\n",
      "plt.figure\n",
      "plt.imshow(wordcloud, interpolation='bilinear')\n",
      "plt.axis(\"off\")\n",
      "# lower max_font_size\n",
      "wordcloud = WordCloud(max_font_size=40).generate(text)\n",
      "plt.figure()\n",
      "plt.imshow(wordcloud, interpolation=\"bilinear\")\n",
      "plt.axis(\"off\")\n",
      "plt.show()"
     ],
     "language": "python",
     "metadata": {},
     "outputs": [],
     "prompt_number": 11
    }
   ],
   "metadata": {}
  }
 ]
}